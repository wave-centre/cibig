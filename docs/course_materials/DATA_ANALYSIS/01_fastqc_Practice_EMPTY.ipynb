{
 "cells": [
  {
   "cell_type": "markdown",
   "metadata": {
    "tags": []
   },
   "source": [
    "# __How to check raw fastq quality and to map reads against a reference genome ?__ \n",
    "\n",
    "Created by C. Tranchant (DIADE-IRD), J. Orjuela (DIADE-IRD), F. Sabot (DIADE-IRD) and A. Dereeper (PHIM-IRD)\n",
    "\n",
    "***\n",
    "\n",
    "# <span style=\"color: #006E7F\">Table of contents</span>\n",
    "<a class=\"anchor\" id=\"home\"></a>\n",
    "\n",
    "[PRACTICE I - Getting dataset used during this training](#data)\n",
    "\n",
    "[PRACTICE II - checking the reads quality](#quality) \n",
    "\n",
    "***\n"
   ]
  },
  {
   "cell_type": "markdown",
   "metadata": {},
   "source": [
    "# <span style=\"color:#006E7F\">PRACTICE I - Getting dataset used during this training<a class=\"anchor\" id=\"data\"></span>  \n",
    "\n",
    "### <span style=\"color: #4CACBC;\"> First go to your working directory and list the content of this directory</span>  \n"
   ]
  },
  {
   "cell_type": "code",
   "execution_count": 2,
   "metadata": {},
   "outputs": [],
   "source": [
    "# go to working directory and list the directory\n"
   ]
  },
  {
   "cell_type": "markdown",
   "metadata": {},
   "source": [
    "To analyze sequencing data, we usually use a lot of bioinformatics softwares generating a lot of data. It's very important to manage and organize your data. \n",
    "\n",
    "Firstly, we are going to download data we use in this training.\n",
    "\n",
    "### <span style=\"color: #4CACBC;\"> Download sequencing data and the reference genome <a class=\"anchor\" id=\"download\"> - `wget` </span>  \n",
    "\n",
    "Data are available at the following URL : https://itrop.ird.fr/CIBIG2024/variants_trainings/SV_DATA.tar.gz\n"
   ]
  },
  {
   "cell_type": "code",
   "execution_count": 9,
   "metadata": {
    "collapsed": true,
    "jupyter": {
     "outputs_hidden": true
    },
    "tags": []
   },
   "outputs": [
    {
     "name": "stdout",
     "output_type": "stream",
     "text": [
      "# download available compressed DATA \n",
      "<ird.fr/CIBIG2024/variants_trainings/SV_DATA.tar.gz \n",
      "--2024-09-08 21:06:49--  https://itrop.ird.fr/CIBIG2024/variants_trainings/SV_DATA.tar.gz\n",
      "Résolution de itrop.ird.fr (itrop.ird.fr)… 10.4.91.184\n",
      "Connexion à itrop.ird.fr (itrop.ird.fr)|10.4.91.184|:443… connecté.\n",
      "requête HTTP transmise, en attente de la réponse… 200 OK\n",
      "Taille : 7581002472 (7,1G) [application/x-gzip]\n",
      "Sauvegarde en : « variants_trainings/SV_DATA.tar.gz »\n",
      "\n",
      "variants_trainings/ 100%[===================>]   7,06G  43,7MB/s    ds 2m 12s  \n",
      "\n",
      "2024-09-08 21:09:01 (54,9 MB/s) — « variants_trainings/SV_DATA.tar.gz » sauvegardé [7581002472/7581002472]\n",
      "\n",
      "Terminé — 2024-09-08 21:09:01 —\n",
      "Temps total effectif : 2m 12s\n",
      "Téléchargés : 1 fichiers, 7,1G en 2m 12s (54,9 MB/s)\n",
      "# decompress data\n",
      "tar xzvf variants_trainings/SV_DATA.tar.gz\n",
      "SV_DATA/\n",
      "SV_DATA/ASSEMBLIES/\n",
      "SV_DATA/ASSEMBLIES/assembly-stats.txt\n",
      "SV_DATA/ASSEMBLIES/A8_assembly.fasta\n",
      "SV_DATA/ASSEMBLIES/5417_assembly.fasta\n",
      "SV_DATA/SHORT_READS/\n",
      "SV_DATA/SHORT_READS/A8_R1.fastq.gz\n",
      "SV_DATA/SHORT_READS/C218_R1.fastq.gz\n",
      "SV_DATA/SHORT_READS/H44_R1.fastq.gz\n",
      "SV_DATA/SHORT_READS/H44_R2.fastq.gz\n",
      "SV_DATA/SHORT_READS/B218_R1.fastq.gz\n",
      "SV_DATA/SHORT_READS/E2_R1.fastq.gz\n",
      "SV_DATA/SHORT_READS/5417_R1.fastq.gz\n",
      "SV_DATA/SHORT_READS/1868_R2.fastq.gz\n",
      "SV_DATA/SHORT_READS/B1_R2.fastq.gz\n",
      "SV_DATA/SHORT_READS/A1_R2.fastq.gz\n",
      "SV_DATA/SHORT_READS/5417_R2.fastq.gz\n",
      "SV_DATA/SHORT_READS/E318_R1.fastq.gz\n",
      "SV_DATA/SHORT_READS/G11_R2.fastq.gz\n",
      "SV_DATA/SHORT_READS/G11_R1.fastq.gz\n",
      "SV_DATA/SHORT_READS/685_R1.fastq.gz\n",
      "SV_DATA/SHORT_READS/716_R1.fastq.gz\n",
      "SV_DATA/SHORT_READS/B8_R2.fastq.gz\n",
      "SV_DATA/SHORT_READS/B218_R2.fastq.gz\n",
      "SV_DATA/SHORT_READS/716_R2.fastq.gz\n",
      "SV_DATA/SHORT_READS/4752_R1.fastq.gz\n",
      "SV_DATA/SHORT_READS/A8_R2.fastq.gz\n",
      "SV_DATA/SHORT_READS/C2_R2.fastq.gz\n",
      "SV_DATA/SHORT_READS/B1_R1.fastq.gz\n",
      "SV_DATA/SHORT_READS/685_R2.fastq.gz\n",
      "SV_DATA/SHORT_READS/4752_R2.fastq.gz\n",
      "SV_DATA/SHORT_READS/1613_R2.fastq.gz\n",
      "SV_DATA/SHORT_READS/C218_R2.fastq.gz\n",
      "SV_DATA/SHORT_READS/C2_R1.fastq.gz\n",
      "SV_DATA/SHORT_READS/D119_R1.fastq.gz\n",
      "SV_DATA/SHORT_READS/D119_R2.fastq.gz\n",
      "SV_DATA/SHORT_READS/B8_R1.fastq.gz\n",
      "SV_DATA/SHORT_READS/E318_R2.fastq.gz\n",
      "SV_DATA/SHORT_READS/E2_R2.fastq.gz\n",
      "SV_DATA/SHORT_READS/1613_R1.fastq.gz\n",
      "SV_DATA/SHORT_READS/A1_R1.fastq.gz\n",
      "SV_DATA/SHORT_READS/1868_R1.fastq.gz\n",
      "SV_DATA/LONG_READS/\n",
      "SV_DATA/LONG_READS/5417/\n",
      "SV_DATA/LONG_READS/5417/fastq_runid_d9b45d7d98e41184ec96f40f59021521f703067d_12_0.fastq.gz\n",
      "SV_DATA/LONG_READS/5417/fastq_runid_d9b45d7d98e41184ec96f40f59021521f703067d_10_0.fastq.gz\n",
      "SV_DATA/LONG_READS/5417/fastq_runid_d9b45d7d98e41184ec96f40f59021521f703067d_5_0.fastq.gz\n",
      "SV_DATA/LONG_READS/5417/fastq_runid_d9b45d7d98e41184ec96f40f59021521f703067d_8_0.fastq.gz\n",
      "SV_DATA/LONG_READS/5417/fastq_runid_d9b45d7d98e41184ec96f40f59021521f703067d_13_0.fastq.gz\n",
      "SV_DATA/LONG_READS/5417/fastq_runid_d9b45d7d98e41184ec96f40f59021521f703067d_14_0.fastq.gz\n",
      "SV_DATA/LONG_READS/5417/fastq_runid_d9b45d7d98e41184ec96f40f59021521f703067d_2_0.fastq.gz\n",
      "SV_DATA/LONG_READS/5417/fastq_runid_d9b45d7d98e41184ec96f40f59021521f703067d_9_0.fastq.gz\n",
      "SV_DATA/LONG_READS/5417/fastq_runid_d9b45d7d98e41184ec96f40f59021521f703067d_4_0.fastq.gz\n",
      "SV_DATA/LONG_READS/5417/fastq_runid_d9b45d7d98e41184ec96f40f59021521f703067d_0_0.fastq.gz\n",
      "SV_DATA/LONG_READS/5417/fastq_runid_d9b45d7d98e41184ec96f40f59021521f703067d_11_0.fastq.gz\n",
      "SV_DATA/LONG_READS/5417/fastq_runid_d9b45d7d98e41184ec96f40f59021521f703067d_6_0.fastq.gz\n",
      "SV_DATA/LONG_READS/5417/fastq_runid_d9b45d7d98e41184ec96f40f59021521f703067d_1_0.fastq.gz\n",
      "SV_DATA/LONG_READS/5417/fastq_runid_d9b45d7d98e41184ec96f40f59021521f703067d_3_0.fastq.gz\n",
      "SV_DATA/LONG_READS/5417/fastq_runid_d9b45d7d98e41184ec96f40f59021521f703067d_7_0.fastq.gz\n",
      "SV_DATA/LONG_READS/A8/\n",
      "SV_DATA/LONG_READS/A8/fastq_runid_243e56cb3c6676a3d235987c3ae536c7646d460a_6_0.fastq.gz\n",
      "SV_DATA/LONG_READS/A8/fastq_runid_243e56cb3c6676a3d235987c3ae536c7646d460a_7_0.fastq.gz\n",
      "SV_DATA/LONG_READS/A8/fastq_runid_243e56cb3c6676a3d235987c3ae536c7646d460a_3_0.fastq.gz\n",
      "SV_DATA/LONG_READS/A8/fastq_runid_243e56cb3c6676a3d235987c3ae536c7646d460a_10_0.fastq.gz\n",
      "SV_DATA/LONG_READS/A8/fastq_runid_243e56cb3c6676a3d235987c3ae536c7646d460a_11_0.fastq.gz\n",
      "SV_DATA/LONG_READS/A8/fastq_runid_243e56cb3c6676a3d235987c3ae536c7646d460a_2_0.fastq.gz\n",
      "SV_DATA/LONG_READS/A8/fastq_runid_243e56cb3c6676a3d235987c3ae536c7646d460a_9_0.fastq.gz\n",
      "SV_DATA/LONG_READS/A8/fastq_runid_243e56cb3c6676a3d235987c3ae536c7646d460a_4_0.fastq.gz\n",
      "SV_DATA/LONG_READS/A8/fastq_runid_023874091309670a42f7a7c51d363b94fa86dd50_0_0.fastq.gz\n",
      "SV_DATA/LONG_READS/A8/fastq_runid_243e56cb3c6676a3d235987c3ae536c7646d460a_1_0.fastq.gz\n",
      "SV_DATA/LONG_READS/A8/fastq_runid_243e56cb3c6676a3d235987c3ae536c7646d460a_5_0.fastq.gz\n",
      "SV_DATA/LONG_READS/A8/fastq_runid_243e56cb3c6676a3d235987c3ae536c7646d460a_8_0.fastq.gz\n",
      "SV_DATA/REF/\n",
      "SV_DATA/REF/GCA_002220235.1_ASM222023v1_genomic.gff\n",
      "SV_DATA/REF/GCA_002220235.1_ASM222023v1_genomic.fna.pac\n",
      "SV_DATA/REF/GCA_002220235.1_ASM222023v1_genomic.fna.amb\n",
      "SV_DATA/REF/GCA_002220235.1_ASM222023v1_genomic.fna.fai\n",
      "SV_DATA/REF/GCA_002220235.1_ASM222023v1_genomic.fna.bwt.2bit.64\n",
      "SV_DATA/REF/GCA_002220235.1_ASM222023v1_genomic.fna\n",
      "SV_DATA/REF/GCA_002220235.1_ASM222023v1_genomic.fna.ann\n",
      "SV_DATA/REF/GCA_002220235.1_ASM222023v1_genomic.fna.0123\n",
      "rm variants_trainings/SV_DATA.tar.gz\n"
     ]
    },
    {
     "ename": "",
     "evalue": "1",
     "output_type": "error",
     "traceback": []
    }
   ],
   "source": [
    "# download available compressed DATA \n",
    "wget --no-check-certificat -rm -nH --cut-dirs=1 --reject=\"index.html*\" https://itrop.ird.fr/CIBIG2024/variants_trainings/SV_DATA_17.tar.gz \n",
    "# decompress data\n",
    "tar xzvf variants_trainings/SV_DATA_17.tar.gz\n",
    "rm variants_trainings/SV_DATA_17.tar.gz"
   ]
  },
  {
   "cell_type": "markdown",
   "metadata": {},
   "source": [
    "### <span style=\"color: #4CACBC;\"> List the content of your home directory and check that the directory SV_DATA have been created</span>  - `ls` \n"
   ]
  },
  {
   "cell_type": "code",
   "execution_count": null,
   "metadata": {
    "tags": []
   },
   "outputs": [],
   "source": []
  },
  {
   "cell_type": "markdown",
   "metadata": {},
   "source": [
    "### <span style=\"color: #4CACBC;\"> List the content of the directory SV_DATA</span>  - `ls`"
   ]
  },
  {
   "cell_type": "code",
   "execution_count": null,
   "metadata": {
    "tags": []
   },
   "outputs": [],
   "source": []
  },
  {
   "cell_type": "markdown",
   "metadata": {
    "tags": []
   },
   "source": [
    "### <span style=\"color: #4CACBC;\"> List the content of the directory REF</span>  - `ls`"
   ]
  },
  {
   "cell_type": "code",
   "execution_count": null,
   "metadata": {},
   "outputs": [],
   "source": []
  },
  {
   "cell_type": "markdown",
   "metadata": {},
   "source": [
    "What are the formats of the files present in this directory ? What do you think these file contains?\n",
    "<br>\n",
    "How many chromosomes does the reference file contain? `grep`"
   ]
  },
  {
   "cell_type": "code",
   "execution_count": null,
   "metadata": {},
   "outputs": [],
   "source": []
  },
  {
   "cell_type": "markdown",
   "metadata": {
    "tags": []
   },
   "source": [
    "# <span style=\"color:#006E7F\"> PRACTICE II - Checking the reads quality <a class=\"anchor\" id=\"quality\"></span>  "
   ]
  },
  {
   "cell_type": "markdown",
   "metadata": {},
   "source": [
    "### <span style=\"color: #4CACBC;\"> Go into the directory SV_DATA/SHORT_READS and list the content of this directory - `cd` `ls`</span>  \n",
    "How many files does it contain ? What is the format ?"
   ]
  },
  {
   "cell_type": "code",
   "execution_count": null,
   "metadata": {},
   "outputs": [],
   "source": []
  },
  {
   "cell_type": "code",
   "execution_count": null,
   "metadata": {},
   "outputs": [],
   "source": []
  },
  {
   "cell_type": "markdown",
   "metadata": {},
   "source": [
    "\n",
    "### <span style=\"color: #4CACBC;\"> List the 10 first lines of one file</span>  - `head` `zcat` \n",
    "\n",
    "How many sequences are there in the first fastq file?"
   ]
  },
  {
   "cell_type": "code",
   "execution_count": null,
   "metadata": {},
   "outputs": [],
   "source": []
  },
  {
   "cell_type": "markdown",
   "metadata": {
    "tags": []
   },
   "source": [
    "### <span style=\"color: #4CACBC;\"> Go into your working directory and create the directory 1-FASTQC</span>  "
   ]
  },
  {
   "cell_type": "code",
   "execution_count": null,
   "metadata": {},
   "outputs": [],
   "source": []
  },
  {
   "cell_type": "markdown",
   "metadata": {
    "tags": []
   },
   "source": [
    "### <span style=\"color: #4CACBC;\"> Run `fastqc` on all raw fastq</span>  "
   ]
  },
  {
   "cell_type": "code",
   "execution_count": null,
   "metadata": {},
   "outputs": [],
   "source": []
  },
  {
   "cell_type": "markdown",
   "metadata": {
    "tags": []
   },
   "source": [
    "### <span style=\"color: #4CACBC;\"> Run `MultiQC`</span>  \n",
    "\n",
    "* go into the directory 1-FASTQC\n",
    "* run MultiQC into this directory"
   ]
  },
  {
   "cell_type": "code",
   "execution_count": null,
   "metadata": {},
   "outputs": [],
   "source": []
  },
  {
   "cell_type": "markdown",
   "metadata": {
    "tags": []
   },
   "source": []
  },
  {
   "cell_type": "markdown",
   "metadata": {
    "tags": []
   },
   "source": []
  }
 ],
 "metadata": {
  "kernelspec": {
   "display_name": "Bash",
   "language": "bash",
   "name": "bash"
  },
  "language_info": {
   "codemirror_mode": "shell",
   "file_extension": ".sh",
   "mimetype": "text/x-sh",
   "name": "bash"
  }
 },
 "nbformat": 4,
 "nbformat_minor": 4
}
